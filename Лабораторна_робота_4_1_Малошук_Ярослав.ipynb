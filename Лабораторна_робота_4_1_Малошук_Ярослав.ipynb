{
  "nbformat": 4,
  "nbformat_minor": 0,
  "metadata": {
    "colab": {
      "provenance": [],
      "gpuType": "T4",
      "include_colab_link": true
    },
    "kernelspec": {
      "name": "python3",
      "display_name": "Python 3"
    },
    "language_info": {
      "name": "python"
    },
    "accelerator": "GPU"
  },
  "cells": [
    {
      "cell_type": "markdown",
      "metadata": {
        "id": "view-in-github",
        "colab_type": "text"
      },
      "source": [
        "<a href=\"https://colab.research.google.com/github/Yaroslav-Maloshuk/Numerical_Analysis/blob/main/%D0%9B%D0%B0%D0%B1%D0%BE%D1%80%D0%B0%D1%82%D0%BE%D1%80%D0%BD%D0%B0_%D1%80%D0%BE%D0%B1%D0%BE%D1%82%D0%B0_4_1_%D0%9C%D0%B0%D0%BB%D0%BE%D1%88%D1%83%D0%BA_%D0%AF%D1%80%D0%BE%D1%81%D0%BB%D0%B0%D0%B2.ipynb\" target=\"_parent\"><img src=\"https://colab.research.google.com/assets/colab-badge.svg\" alt=\"Open In Colab\"/></a>"
      ]
    },
    {
      "cell_type": "markdown",
      "source": [
        "Малошук Ярослав\n",
        "ФІТ 2-15"
      ],
      "metadata": {
        "id": "hgxHsVV15xe8"
      }
    },
    {
      "cell_type": "code",
      "source": [
        "import numpy as np\n",
        "np.__version__"
      ],
      "metadata": {
        "colab": {
          "base_uri": "https://localhost:8080/",
          "height": 35
        },
        "id": "lCQxUAHTyljp",
        "outputId": "fff7ad9e-55fc-485c-aed6-ca16a34e2fc6"
      },
      "execution_count": 50,
      "outputs": [
        {
          "output_type": "execute_result",
          "data": {
            "text/plain": [
              "'2.0.2'"
            ],
            "application/vnd.google.colaboratory.intrinsic+json": {
              "type": "string"
            }
          },
          "metadata": {},
          "execution_count": 50
        }
      ]
    },
    {
      "cell_type": "markdown",
      "source": [
        "1.Створи матрицю 3*3, заповни її цілими випадковими числами від 1 до 5"
      ],
      "metadata": {
        "id": "h0uk7zv29LLV"
      }
    },
    {
      "cell_type": "code",
      "source": [
        "matrix = np.random.randint(1, 6, size=(3, 3))\n",
        "matrix"
      ],
      "metadata": {
        "colab": {
          "base_uri": "https://localhost:8080/"
        },
        "id": "qBpKF3qpyl7q",
        "outputId": "4dd7004b-87db-44f3-c293-a5332ba29ee2"
      },
      "execution_count": 51,
      "outputs": [
        {
          "output_type": "execute_result",
          "data": {
            "text/plain": [
              "array([[2, 5, 4],\n",
              "       [1, 4, 3],\n",
              "       [1, 2, 5]])"
            ]
          },
          "metadata": {},
          "execution_count": 51
        }
      ]
    },
    {
      "cell_type": "markdown",
      "source": [
        "2.Обчислити визначник матриці"
      ],
      "metadata": {
        "id": "AZpxb5Rw9NHv"
      }
    },
    {
      "cell_type": "code",
      "source": [
        "det = np.linalg.det(matrix)\n",
        "det"
      ],
      "metadata": {
        "colab": {
          "base_uri": "https://localhost:8080/"
        },
        "id": "VciwsYW28HvQ",
        "outputId": "1a3ef9a8-4ea1-47ee-b047-13c634fba887"
      },
      "execution_count": 52,
      "outputs": [
        {
          "output_type": "execute_result",
          "data": {
            "text/plain": [
              "np.float64(9.999999999999998)"
            ]
          },
          "metadata": {},
          "execution_count": 52
        }
      ]
    },
    {
      "cell_type": "markdown",
      "source": [
        "3.Знайти добуток всіх елементів матриці"
      ],
      "metadata": {
        "id": "l4c41w-e8MA3"
      }
    },
    {
      "cell_type": "code",
      "source": [
        "product = np.prod(matrix)\n",
        "product"
      ],
      "metadata": {
        "colab": {
          "base_uri": "https://localhost:8080/"
        },
        "id": "myFbH-W68lyL",
        "outputId": "c144ece0-3ef6-42fb-d651-7cb97da7ad5e"
      },
      "execution_count": 53,
      "outputs": [
        {
          "output_type": "execute_result",
          "data": {
            "text/plain": [
              "np.int64(4800)"
            ]
          },
          "metadata": {},
          "execution_count": 53
        }
      ]
    },
    {
      "cell_type": "code",
      "source": [
        "prod_1 = np.prod(matrix[0])\n",
        "prod_1"
      ],
      "metadata": {
        "colab": {
          "base_uri": "https://localhost:8080/"
        },
        "id": "_YhdltNP99hD",
        "outputId": "14112e62-c26b-4760-e799-df29876896c0"
      },
      "execution_count": 56,
      "outputs": [
        {
          "output_type": "execute_result",
          "data": {
            "text/plain": [
              "np.int64(40)"
            ]
          },
          "metadata": {},
          "execution_count": 56
        }
      ]
    },
    {
      "cell_type": "code",
      "source": [
        "prod_2 = np.prod(matrix[1])\n",
        "prod_2"
      ],
      "metadata": {
        "colab": {
          "base_uri": "https://localhost:8080/"
        },
        "id": "ghWTw8Y8Fcfn",
        "outputId": "2e96d310-587d-4df2-cb00-f9ffea4b49ee"
      },
      "execution_count": 57,
      "outputs": [
        {
          "output_type": "execute_result",
          "data": {
            "text/plain": [
              "np.int64(12)"
            ]
          },
          "metadata": {},
          "execution_count": 57
        }
      ]
    },
    {
      "cell_type": "code",
      "source": [
        "prod_3 = np.prod(matrix[2])\n",
        "prod_3"
      ],
      "metadata": {
        "colab": {
          "base_uri": "https://localhost:8080/"
        },
        "id": "QWVmrjzyFcZ5",
        "outputId": "609b7c3b-ccab-4a75-d950-745381f8c5ae"
      },
      "execution_count": 58,
      "outputs": [
        {
          "output_type": "execute_result",
          "data": {
            "text/plain": [
              "np.int64(10)"
            ]
          },
          "metadata": {},
          "execution_count": 58
        }
      ]
    },
    {
      "cell_type": "code",
      "source": [
        "prod_1 * prod_2 * prod_3"
      ],
      "metadata": {
        "colab": {
          "base_uri": "https://localhost:8080/"
        },
        "id": "TxkpS2PrFcOL",
        "outputId": "776e389e-e232-4a2c-a8a0-809c840095f9"
      },
      "execution_count": 59,
      "outputs": [
        {
          "output_type": "execute_result",
          "data": {
            "text/plain": [
              "np.int64(4800)"
            ]
          },
          "metadata": {},
          "execution_count": 59
        }
      ]
    },
    {
      "cell_type": "markdown",
      "source": [
        "4.Знайти суму всіх елементів матриці"
      ],
      "metadata": {
        "id": "PIUtZxcY8OK7"
      }
    },
    {
      "cell_type": "code",
      "source": [
        "sum = np.sum(matrix)\n",
        "sum"
      ],
      "metadata": {
        "colab": {
          "base_uri": "https://localhost:8080/"
        },
        "id": "pYZxdq4C8mal",
        "outputId": "5069c785-2a92-4c41-eba8-6a05ff72aa09"
      },
      "execution_count": 60,
      "outputs": [
        {
          "output_type": "execute_result",
          "data": {
            "text/plain": [
              "np.int64(27)"
            ]
          },
          "metadata": {},
          "execution_count": 60
        }
      ]
    },
    {
      "cell_type": "markdown",
      "source": [
        "5.Обчислити найбільший, найменший елементи"
      ],
      "metadata": {
        "id": "0F2zIdOa8QQ7"
      }
    },
    {
      "cell_type": "code",
      "source": [
        "max_element = np.max(matrix)\n",
        "max_element"
      ],
      "metadata": {
        "colab": {
          "base_uri": "https://localhost:8080/"
        },
        "id": "Z3JXdEWh9jlo",
        "outputId": "0570b779-0a4a-4949-f11e-2eb54056a794"
      },
      "execution_count": 61,
      "outputs": [
        {
          "output_type": "execute_result",
          "data": {
            "text/plain": [
              "np.int64(5)"
            ]
          },
          "metadata": {},
          "execution_count": 61
        }
      ]
    },
    {
      "cell_type": "code",
      "source": [
        "min_element = np.min(matrix)\n",
        "min_element"
      ],
      "metadata": {
        "colab": {
          "base_uri": "https://localhost:8080/"
        },
        "id": "a3NFrOHuCUdV",
        "outputId": "83d5a994-c791-4715-dbf3-de02bab3b1c2"
      },
      "execution_count": 62,
      "outputs": [
        {
          "output_type": "execute_result",
          "data": {
            "text/plain": [
              "np.int64(1)"
            ]
          },
          "metadata": {},
          "execution_count": 62
        }
      ]
    },
    {
      "cell_type": "markdown",
      "source": [
        "6.Знайти середнє значення елементів матриці"
      ],
      "metadata": {
        "id": "J0jGfl4L8SsQ"
      }
    },
    {
      "cell_type": "code",
      "source": [
        "mean = np.mean(matrix)\n",
        "mean"
      ],
      "metadata": {
        "colab": {
          "base_uri": "https://localhost:8080/"
        },
        "id": "77VaO5yu-xZ2",
        "outputId": "04f4ea58-3416-427b-cca7-c987a63d91dc"
      },
      "execution_count": 63,
      "outputs": [
        {
          "output_type": "execute_result",
          "data": {
            "text/plain": [
              "np.float64(3.0)"
            ]
          },
          "metadata": {},
          "execution_count": 63
        }
      ]
    },
    {
      "cell_type": "markdown",
      "source": [
        "7.Знайти матрицю, що складена з квадратних коренів"
      ],
      "metadata": {
        "id": "NBOTpGt38U9N"
      }
    },
    {
      "cell_type": "code",
      "source": [
        "sqrt_matrix = np.sqrt(matrix)\n",
        "sqrt_matrix"
      ],
      "metadata": {
        "colab": {
          "base_uri": "https://localhost:8080/"
        },
        "id": "ZV7SpOIG-_LF",
        "outputId": "d0d59845-7d94-4fa9-dceb-65f1c8e6b89e"
      },
      "execution_count": 64,
      "outputs": [
        {
          "output_type": "execute_result",
          "data": {
            "text/plain": [
              "array([[1.41421356, 2.23606798, 2.        ],\n",
              "       [1.        , 2.        , 1.73205081],\n",
              "       [1.        , 1.41421356, 2.23606798]])"
            ]
          },
          "metadata": {},
          "execution_count": 64
        }
      ]
    },
    {
      "cell_type": "markdown",
      "source": [
        "8.Обчислити суму елементів кожного рядка. Відповідь записати як вектор-стовпчик"
      ],
      "metadata": {
        "id": "Gkyfkvj58Xt2"
      }
    },
    {
      "cell_type": "code",
      "source": [
        "row_sums = np.sum(matrix, axis=1).reshape(-1, 1)\n",
        "row_sums"
      ],
      "metadata": {
        "colab": {
          "base_uri": "https://localhost:8080/"
        },
        "id": "dC41q7Ja8cZ7",
        "outputId": "26d33842-6c3e-422a-cd2a-73320fc7eb15"
      },
      "execution_count": 65,
      "outputs": [
        {
          "output_type": "execute_result",
          "data": {
            "text/plain": [
              "array([[11],\n",
              "       [ 8],\n",
              "       [ 8]])"
            ]
          },
          "metadata": {},
          "execution_count": 65
        }
      ]
    },
    {
      "cell_type": "markdown",
      "source": [
        "9.Створити вектор, що містить 25 елементів. Заповнити числами від 0 до 9. Відсортувати числа за спаданням."
      ],
      "metadata": {
        "id": "wyKbmvSQ_NNN"
      }
    },
    {
      "cell_type": "code",
      "source": [
        "vector = np.random.randint(0, 10, size=25)\n",
        "vector"
      ],
      "metadata": {
        "colab": {
          "base_uri": "https://localhost:8080/"
        },
        "id": "HPsF8ENc85_H",
        "outputId": "416ea429-188b-41e6-c0d8-95746beb31bb"
      },
      "execution_count": 66,
      "outputs": [
        {
          "output_type": "execute_result",
          "data": {
            "text/plain": [
              "array([5, 1, 7, 7, 0, 5, 6, 1, 0, 2, 2, 5, 0, 9, 7, 5, 6, 3, 3, 1, 7, 0,\n",
              "       3, 5, 7])"
            ]
          },
          "metadata": {},
          "execution_count": 66
        }
      ]
    },
    {
      "cell_type": "code",
      "source": [
        "sorted_vector = np.sort(vector)[::-1]\n",
        "sorted_vector"
      ],
      "metadata": {
        "colab": {
          "base_uri": "https://localhost:8080/"
        },
        "id": "X4zFvz_gCs5p",
        "outputId": "ff1a76c3-d0e5-45b9-e0d7-78d45b116f98"
      },
      "execution_count": 67,
      "outputs": [
        {
          "output_type": "execute_result",
          "data": {
            "text/plain": [
              "array([9, 7, 7, 7, 7, 7, 6, 6, 5, 5, 5, 5, 5, 3, 3, 3, 2, 2, 1, 1, 1, 0,\n",
              "       0, 0, 0])"
            ]
          },
          "metadata": {},
          "execution_count": 67
        }
      ]
    },
    {
      "cell_type": "markdown",
      "source": [
        "10.Знайти моду, медіану, середнє, максимальне, мінімальне значення"
      ],
      "metadata": {
        "id": "u7zmiG7c_vHG"
      }
    },
    {
      "cell_type": "code",
      "source": [
        "from scipy import stats"
      ],
      "metadata": {
        "id": "hR4UBT_i_zBf"
      },
      "execution_count": 68,
      "outputs": []
    },
    {
      "cell_type": "code",
      "source": [
        "mode = stats.mode(vector)\n",
        "mode"
      ],
      "metadata": {
        "colab": {
          "base_uri": "https://localhost:8080/"
        },
        "id": "YrmJGpw6C5S-",
        "outputId": "16b79109-3fbe-4b7e-f8a3-b1dc991d563d"
      },
      "execution_count": 69,
      "outputs": [
        {
          "output_type": "execute_result",
          "data": {
            "text/plain": [
              "ModeResult(mode=np.int64(5), count=np.int64(5))"
            ]
          },
          "metadata": {},
          "execution_count": 69
        }
      ]
    },
    {
      "cell_type": "code",
      "source": [
        "median = np.median(vector)\n",
        "median"
      ],
      "metadata": {
        "colab": {
          "base_uri": "https://localhost:8080/"
        },
        "id": "4TITDYjOC5M4",
        "outputId": "4fa15bb2-d1b0-4594-d8a8-09a39e520a9f"
      },
      "execution_count": 70,
      "outputs": [
        {
          "output_type": "execute_result",
          "data": {
            "text/plain": [
              "np.float64(5.0)"
            ]
          },
          "metadata": {},
          "execution_count": 70
        }
      ]
    },
    {
      "cell_type": "code",
      "source": [
        "mean = np.mean(vector)\n",
        "mean"
      ],
      "metadata": {
        "colab": {
          "base_uri": "https://localhost:8080/"
        },
        "id": "ipEZJAtTC5HQ",
        "outputId": "e6f7982b-8bfc-46fc-d1c4-583e9e6d8987"
      },
      "execution_count": 71,
      "outputs": [
        {
          "output_type": "execute_result",
          "data": {
            "text/plain": [
              "np.float64(3.88)"
            ]
          },
          "metadata": {},
          "execution_count": 71
        }
      ]
    },
    {
      "cell_type": "code",
      "source": [
        "max_value = np.max(vector)\n",
        "max_value"
      ],
      "metadata": {
        "colab": {
          "base_uri": "https://localhost:8080/"
        },
        "id": "kicm8nLaC5Bn",
        "outputId": "f4d129c2-49ce-4f50-de28-bf8ea9c05321"
      },
      "execution_count": 72,
      "outputs": [
        {
          "output_type": "execute_result",
          "data": {
            "text/plain": [
              "np.int64(9)"
            ]
          },
          "metadata": {},
          "execution_count": 72
        }
      ]
    },
    {
      "cell_type": "code",
      "source": [
        "min_value = np.min(vector)\n",
        "min_value"
      ],
      "metadata": {
        "colab": {
          "base_uri": "https://localhost:8080/"
        },
        "id": "sTVMvdLXC43_",
        "outputId": "e84860a8-7e34-46be-a520-812f1e475e76"
      },
      "execution_count": 73,
      "outputs": [
        {
          "output_type": "execute_result",
          "data": {
            "text/plain": [
              "np.int64(0)"
            ]
          },
          "metadata": {},
          "execution_count": 73
        }
      ]
    },
    {
      "cell_type": "markdown",
      "source": [
        "11.Створити дві матриці 4*4, заповнені числами від 1 до 10. Обчислити суму, різницю, поелементний добуток, частку."
      ],
      "metadata": {
        "id": "6nT3YJL8ALHr"
      }
    },
    {
      "cell_type": "code",
      "source": [
        "matrix1 = np.random.randint(1, 11, size=(4, 4))\n",
        "matrix1"
      ],
      "metadata": {
        "colab": {
          "base_uri": "https://localhost:8080/"
        },
        "id": "JL0doIpjAOcb",
        "outputId": "41962a27-5e64-4f89-8f36-72a2ab25f2da"
      },
      "execution_count": 74,
      "outputs": [
        {
          "output_type": "execute_result",
          "data": {
            "text/plain": [
              "array([[ 3,  9,  2,  6],\n",
              "       [ 7,  7,  3,  5],\n",
              "       [10,  5,  2,  5],\n",
              "       [ 8,  2,  6,  7]])"
            ]
          },
          "metadata": {},
          "execution_count": 74
        }
      ]
    },
    {
      "cell_type": "code",
      "source": [
        "matrix2 = np.random.randint(1, 11, size=(4, 4))\n",
        "matrix2"
      ],
      "metadata": {
        "colab": {
          "base_uri": "https://localhost:8080/"
        },
        "id": "Rw49AcpkAg9y",
        "outputId": "c9bdb9e5-fb18-4961-d148-282f69715c32"
      },
      "execution_count": 75,
      "outputs": [
        {
          "output_type": "execute_result",
          "data": {
            "text/plain": [
              "array([[ 2,  3,  3,  7],\n",
              "       [10,  2,  1,  6],\n",
              "       [ 7,  6,  8,  7],\n",
              "       [ 7,  9,  7,  8]])"
            ]
          },
          "metadata": {},
          "execution_count": 75
        }
      ]
    },
    {
      "cell_type": "code",
      "source": [
        "matrix_sum = matrix1 + matrix2\n",
        "matrix_sum"
      ],
      "metadata": {
        "colab": {
          "base_uri": "https://localhost:8080/"
        },
        "id": "hDEduLgLAkzE",
        "outputId": "7ea3828b-e8bc-41a3-c5c7-f57d824d3b8c"
      },
      "execution_count": 76,
      "outputs": [
        {
          "output_type": "execute_result",
          "data": {
            "text/plain": [
              "array([[ 5, 12,  5, 13],\n",
              "       [17,  9,  4, 11],\n",
              "       [17, 11, 10, 12],\n",
              "       [15, 11, 13, 15]])"
            ]
          },
          "metadata": {},
          "execution_count": 76
        }
      ]
    },
    {
      "cell_type": "code",
      "source": [
        "matrix_diff = matrix1 - matrix2\n",
        "matrix_diff"
      ],
      "metadata": {
        "colab": {
          "base_uri": "https://localhost:8080/"
        },
        "id": "oi5ObDtlDxS6",
        "outputId": "e0c95231-8afb-4418-b681-cf17397ee9ff"
      },
      "execution_count": 77,
      "outputs": [
        {
          "output_type": "execute_result",
          "data": {
            "text/plain": [
              "array([[ 1,  6, -1, -1],\n",
              "       [-3,  5,  2, -1],\n",
              "       [ 3, -1, -6, -2],\n",
              "       [ 1, -7, -1, -1]])"
            ]
          },
          "metadata": {},
          "execution_count": 77
        }
      ]
    },
    {
      "cell_type": "code",
      "source": [
        "matrix_product = matrix1 * matrix2\n",
        "matrix_product"
      ],
      "metadata": {
        "colab": {
          "base_uri": "https://localhost:8080/"
        },
        "id": "OU9pQzN9DxMf",
        "outputId": "9828ab27-187e-4e24-f7d5-75748f5f47ef"
      },
      "execution_count": 78,
      "outputs": [
        {
          "output_type": "execute_result",
          "data": {
            "text/plain": [
              "array([[ 6, 27,  6, 42],\n",
              "       [70, 14,  3, 30],\n",
              "       [70, 30, 16, 35],\n",
              "       [56, 18, 42, 56]])"
            ]
          },
          "metadata": {},
          "execution_count": 78
        }
      ]
    },
    {
      "cell_type": "code",
      "source": [
        "matrix_division = np.divide(matrix1, matrix2, where=(matrix2 != 0))\n",
        "matrix_division"
      ],
      "metadata": {
        "colab": {
          "base_uri": "https://localhost:8080/"
        },
        "id": "vUeExKGyDxFk",
        "outputId": "071536cb-0b6c-42d3-d613-6d93649993e9"
      },
      "execution_count": 79,
      "outputs": [
        {
          "output_type": "execute_result",
          "data": {
            "text/plain": [
              "array([[1.5       , 3.        , 0.66666667, 0.85714286],\n",
              "       [0.7       , 3.5       , 3.        , 0.83333333],\n",
              "       [1.42857143, 0.83333333, 0.25      , 0.71428571],\n",
              "       [1.14285714, 0.22222222, 0.85714286, 0.875     ]])"
            ]
          },
          "metadata": {},
          "execution_count": 79
        }
      ]
    },
    {
      "cell_type": "markdown",
      "source": [
        "12.Задати вектор-рядок, що містить дійсні числа 0-8.0. Зробити матрицю 3*3. Помножити на вектор-рядок, що містить числа 0-2.0."
      ],
      "metadata": {
        "id": "0KRqvq6mD8Md"
      }
    },
    {
      "cell_type": "code",
      "source": [
        "x = np.arange(9.0)\n",
        "x"
      ],
      "metadata": {
        "colab": {
          "base_uri": "https://localhost:8080/"
        },
        "id": "wVde8T7aBQyG",
        "outputId": "9844793f-9d8f-4e40-c892-958896f30e7e"
      },
      "execution_count": 80,
      "outputs": [
        {
          "output_type": "execute_result",
          "data": {
            "text/plain": [
              "array([0., 1., 2., 3., 4., 5., 6., 7., 8.])"
            ]
          },
          "metadata": {},
          "execution_count": 80
        }
      ]
    },
    {
      "cell_type": "code",
      "source": [
        "x1 = x.reshape((3, 3))\n",
        "x1"
      ],
      "metadata": {
        "colab": {
          "base_uri": "https://localhost:8080/"
        },
        "id": "HR6q4JdyA639",
        "outputId": "e92ed986-329e-4980-8688-4a62dd893093"
      },
      "execution_count": 81,
      "outputs": [
        {
          "output_type": "execute_result",
          "data": {
            "text/plain": [
              "array([[0., 1., 2.],\n",
              "       [3., 4., 5.],\n",
              "       [6., 7., 8.]])"
            ]
          },
          "metadata": {},
          "execution_count": 81
        }
      ]
    },
    {
      "cell_type": "code",
      "source": [
        "x2 = np.arange(3.0)\n",
        "x2"
      ],
      "metadata": {
        "colab": {
          "base_uri": "https://localhost:8080/"
        },
        "id": "FpE1VEp2A_w1",
        "outputId": "72ce3b16-7a76-4452-b10c-33be8fc2fc45"
      },
      "execution_count": 82,
      "outputs": [
        {
          "output_type": "execute_result",
          "data": {
            "text/plain": [
              "array([0., 1., 2.])"
            ]
          },
          "metadata": {},
          "execution_count": 82
        }
      ]
    },
    {
      "cell_type": "code",
      "source": [
        "np.multiply(x1, x2)"
      ],
      "metadata": {
        "colab": {
          "base_uri": "https://localhost:8080/"
        },
        "id": "fQgTcYSIBLYS",
        "outputId": "3907f6e2-ed52-4afc-98bf-5f59cadcbc46"
      },
      "execution_count": 83,
      "outputs": [
        {
          "output_type": "execute_result",
          "data": {
            "text/plain": [
              "array([[ 0.,  1.,  4.],\n",
              "       [ 0.,  4., 10.],\n",
              "       [ 0.,  7., 16.]])"
            ]
          },
          "metadata": {},
          "execution_count": 83
        }
      ]
    },
    {
      "cell_type": "markdown",
      "source": [
        "13.Задати вектор-рядок (числа 1-5). Обчислити вектор в кубі."
      ],
      "metadata": {
        "id": "BwFnikuMBFAI"
      }
    },
    {
      "cell_type": "code",
      "source": [
        "x1 = np.arange(6)\n",
        "x1"
      ],
      "metadata": {
        "colab": {
          "base_uri": "https://localhost:8080/"
        },
        "id": "1xtwoE0UBFmV",
        "outputId": "277d630f-2aae-41ae-e351-ac4b5d42e6c5"
      },
      "execution_count": 84,
      "outputs": [
        {
          "output_type": "execute_result",
          "data": {
            "text/plain": [
              "array([0, 1, 2, 3, 4, 5])"
            ]
          },
          "metadata": {},
          "execution_count": 84
        }
      ]
    },
    {
      "cell_type": "code",
      "source": [
        "np.power(x1, 3)"
      ],
      "metadata": {
        "colab": {
          "base_uri": "https://localhost:8080/"
        },
        "id": "csxr_QVOBYkF",
        "outputId": "212a9349-8778-4bcc-d4f8-38d3b2bf35bc"
      },
      "execution_count": 85,
      "outputs": [
        {
          "output_type": "execute_result",
          "data": {
            "text/plain": [
              "array([  0,   1,   8,  27,  64, 125])"
            ]
          },
          "metadata": {},
          "execution_count": 85
        }
      ]
    },
    {
      "cell_type": "markdown",
      "source": [
        "14. Піднести до ступеня"
      ],
      "metadata": {
        "id": "r8VTGII4Ba1G"
      }
    },
    {
      "cell_type": "code",
      "source": [
        "x2 = np.array([1, 2, 3, 3, 2, 1])\n",
        "x2"
      ],
      "metadata": {
        "colab": {
          "base_uri": "https://localhost:8080/"
        },
        "id": "lODPiL97EoAv",
        "outputId": "28771903-4da0-4f0c-d03e-566266c764c7"
      },
      "execution_count": 86,
      "outputs": [
        {
          "output_type": "execute_result",
          "data": {
            "text/plain": [
              "array([1, 2, 3, 3, 2, 1])"
            ]
          },
          "metadata": {},
          "execution_count": 86
        }
      ]
    },
    {
      "cell_type": "code",
      "source": [
        "x1 = np.arange(6)\n",
        "x1"
      ],
      "metadata": {
        "colab": {
          "base_uri": "https://localhost:8080/"
        },
        "id": "peIhx4FgEyZG",
        "outputId": "21915db1-67e8-4d49-afad-daf79c467f5f"
      },
      "execution_count": 87,
      "outputs": [
        {
          "output_type": "execute_result",
          "data": {
            "text/plain": [
              "array([0, 1, 2, 3, 4, 5])"
            ]
          },
          "metadata": {},
          "execution_count": 87
        }
      ]
    },
    {
      "cell_type": "code",
      "source": [
        "x1 ** x2"
      ],
      "metadata": {
        "colab": {
          "base_uri": "https://localhost:8080/"
        },
        "id": "eSUjMAKPEzZY",
        "outputId": "a67e5fa6-4d3b-40e7-839c-a40f52fa8615"
      },
      "execution_count": 88,
      "outputs": [
        {
          "output_type": "execute_result",
          "data": {
            "text/plain": [
              "array([ 0,  1,  8, 27, 16,  5])"
            ]
          },
          "metadata": {},
          "execution_count": 88
        }
      ]
    },
    {
      "cell_type": "markdown",
      "source": [
        "Висновок: Навчились працювати з матрицями, визначниками, векторами та операціями над матрицями за допомогою мови Python та його бібліотек numpy і scipy."
      ],
      "metadata": {
        "id": "zx44S4j2Bvlh"
      }
    }
  ]
}