{
  "nbformat": 4,
  "nbformat_minor": 0,
  "metadata": {
    "colab": {
      "provenance": [],
      "include_colab_link": true
    },
    "kernelspec": {
      "name": "python3",
      "display_name": "Python 3"
    },
    "language_info": {
      "name": "python"
    }
  },
  "cells": [
    {
      "cell_type": "markdown",
      "metadata": {
        "id": "view-in-github",
        "colab_type": "text"
      },
      "source": [
        "<a href=\"https://colab.research.google.com/github/Yaroslav-Maloshuk/Numerical_Analysis/blob/main/%D0%9B%D0%B0%D0%B1%D0%BE%D1%80%D0%B0%D1%82%D0%BE%D1%80%D0%BD%D0%B0_%D1%80%D0%BE%D0%B1%D0%BE%D1%82%D0%B0_1_%D0%9C%D0%B0%D0%BB%D0%BE%D1%88%D1%83%D0%BA_%D0%AF%D1%80%D0%BE%D1%81%D0%BB%D0%B0%D0%B2.ipynb\" target=\"_parent\"><img src=\"https://colab.research.google.com/assets/colab-badge.svg\" alt=\"Open In Colab\"/></a>"
      ]
    },
    {
      "cell_type": "markdown",
      "source": [
        "Малошук Ярослав\n",
        "ФІТ 2-15\n",
        "Варіант 6"
      ],
      "metadata": {
        "id": "QIS1w_NEiL7P"
      }
    },
    {
      "cell_type": "markdown",
      "source": [
        "#Завдання. Обчислення відносної і абсолютної похибки"
      ],
      "metadata": {
        "id": "7ClyPDrHiprY"
      }
    },
    {
      "cell_type": "code",
      "execution_count": null,
      "metadata": {
        "colab": {
          "base_uri": "https://localhost:8080/"
        },
        "id": "f4CX7RUAiJ8a",
        "outputId": "1d8faa9b-1cc5-4c3e-c466-3b2365f51264"
      },
      "outputs": [
        {
          "name": "stdout",
          "output_type": "stream",
          "text": [
            "Введіть наближене значенння величини X: 4.24\n",
            "Введіть абсолютну похибку вимірювання величини X: 0.002\n",
            "Введіть наближене значенння величини Y: 0.818\n",
            "Введіть абсолютну похибку вимірювання величини Y: 0.001\n"
          ]
        }
      ],
      "source": [
        "x = float(input('Введіть наближене значенння величини X: ' ))\n",
        "delta_x = float(input('Введіть абсолютну похибку вимірювання величини X: '))\n",
        "y = float(input('Введіть наближене значенння величини Y: ' ))\n",
        "delta_y = float(input('Введіть абсолютну похибку вимірювання величини Y: '))\n",
        "\n"
      ]
    },
    {
      "cell_type": "code",
      "source": [
        "omega_x = delta_x/x\n",
        "omega_y = delta_y/y\n",
        "\n",
        "print('Відносна похибка значення величини X: ', omega_x)\n",
        "print('Відносна похибка значення величини Y: ', omega_y)\n",
        "\n"
      ],
      "metadata": {
        "colab": {
          "base_uri": "https://localhost:8080/"
        },
        "id": "YiFvKKkZiiom",
        "outputId": "9c11aeae-fce0-4d78-c6fd-e3cf64b86657"
      },
      "execution_count": null,
      "outputs": [
        {
          "output_type": "stream",
          "name": "stdout",
          "text": [
            "Відносна похибка значення величини X:  0.0004716981132075472\n",
            "Відносна похибка значення величини Y:  0.0012224938875305623\n"
          ]
        }
      ]
    },
    {
      "cell_type": "code",
      "source": [
        "def delta_sum(delta_x, delta_y):\n",
        "    return delta_x + delta_y\n",
        "print('Абсолютна похибка X+Y: ', delta_sum(delta_x, delta_y))\n"
      ],
      "metadata": {
        "colab": {
          "base_uri": "https://localhost:8080/"
        },
        "id": "fNac_lqCiydf",
        "outputId": "b6cf95c1-df21-4367-a9ab-930ac77e9364"
      },
      "execution_count": null,
      "outputs": [
        {
          "output_type": "stream",
          "name": "stdout",
          "text": [
            "Абсолютна похибка X+Y:  0.003\n"
          ]
        }
      ]
    },
    {
      "cell_type": "code",
      "source": [
        "def delta_sub(delta_x, delta_y):\n",
        "    return delta_x - delta_y\n",
        "print('Абсолютна похибка X-Y: ', delta_sub(delta_x, delta_y))\n"
      ],
      "metadata": {
        "colab": {
          "base_uri": "https://localhost:8080/"
        },
        "id": "gUQ2-FeNioLI",
        "outputId": "5e56e6e6-a285-4217-9bb2-b6e8cc11000d"
      },
      "execution_count": null,
      "outputs": [
        {
          "output_type": "stream",
          "name": "stdout",
          "text": [
            "Абсолютна похибка X-Y:  0.001\n"
          ]
        }
      ]
    },
    {
      "cell_type": "code",
      "source": [
        "def delta_mult(x, y, delta_x, delta_y):\n",
        "    return delta_x*delta_y + delta_x*y + x*delta_y\n",
        "print('Абсолютна похибка X*Y: ', delta_mult(x, y, delta_x, delta_y))"
      ],
      "metadata": {
        "colab": {
          "base_uri": "https://localhost:8080/"
        },
        "id": "4aN_ZX2Qi9N5",
        "outputId": "f2b98f94-ab05-48ae-96cb-961078a6734f"
      },
      "execution_count": null,
      "outputs": [
        {
          "output_type": "stream",
          "name": "stdout",
          "text": [
            "Абсолютна похибка X*Y:  0.005878\n"
          ]
        }
      ]
    },
    {
      "cell_type": "code",
      "source": [
        "def delta_div(x, y, delta_x, delta_y):\n",
        "    return (delta_x + x)/(delta_y +y) - x/y\n",
        "print('Абсолютна похибка X/Y: ', delta_div(x, y, delta_x, delta_y))\n"
      ],
      "metadata": {
        "colab": {
          "base_uri": "https://localhost:8080/"
        },
        "id": "8ghAYPOOjDSY",
        "outputId": "cc7a93ff-4cc1-4caf-dc4b-dfe2d3bb3e73"
      },
      "execution_count": null,
      "outputs": [
        {
          "output_type": "stream",
          "name": "stdout",
          "text": [
            "Абсолютна похибка X/Y:  -0.0038869036424049597\n"
          ]
        }
      ]
    },
    {
      "cell_type": "code",
      "source": [
        "def omega_sum(x, y, omega_x, omega_y):\n",
        "    return x/(x+y)*omega_x + y/(x+y)*omega_y\n",
        "print('Відносна похибка X+Y: ', omega_sum(x, y, omega_x, omega_y))\n"
      ],
      "metadata": {
        "colab": {
          "base_uri": "https://localhost:8080/"
        },
        "id": "hZP_9ElkjHb8",
        "outputId": "00d6aa05-c48d-4820-f6b8-35927b708a55"
      },
      "execution_count": null,
      "outputs": [
        {
          "output_type": "stream",
          "name": "stdout",
          "text": [
            "Відносна похибка X+Y:  0.0005931198102016608\n"
          ]
        }
      ]
    },
    {
      "cell_type": "code",
      "source": [
        "def omega_sub(x, y, omega_x, omega_y):\n",
        "    return x/(x-y)*omega_x - y/(x-y)*omega_y\n",
        "print('Відносна похибка X-Y: ', omega_sub(x, y, omega_x, omega_y))\n"
      ],
      "metadata": {
        "colab": {
          "base_uri": "https://localhost:8080/"
        },
        "id": "a-dSKrSCjN3f",
        "outputId": "63270d82-0f78-4fa7-f0dc-7a905f151703"
      },
      "execution_count": null,
      "outputs": [
        {
          "output_type": "stream",
          "name": "stdout",
          "text": [
            "Відносна похибка X-Y:  0.0002922267679719463\n"
          ]
        }
      ]
    },
    {
      "cell_type": "code",
      "source": [
        "def omega_mult(omega_x, omega_y):\n",
        "    return omega_x*omega_y + omega_x + omega_y\n",
        "print('Відносна похибка X*Y: ', omega_mult(omega_x, omega_y))\n",
        "\n"
      ],
      "metadata": {
        "colab": {
          "base_uri": "https://localhost:8080/"
        },
        "id": "gNlz6A5wjRHR",
        "outputId": "b430b1f1-85e8-4c26-890b-3eefcd018b13"
      },
      "execution_count": null,
      "outputs": [
        {
          "output_type": "stream",
          "name": "stdout",
          "text": [
            "Відносна похибка X*Y:  0.0016947686487982655\n"
          ]
        }
      ]
    },
    {
      "cell_type": "code",
      "source": [
        "def omega_div(omega_x, omega_y):\n",
        "    return (omega_x - omega_y) / (omega_y + 1)\n",
        "print('Відносна похибка X/Y: ', omega_div(omega_x, omega_y))"
      ],
      "metadata": {
        "colab": {
          "base_uri": "https://localhost:8080/"
        },
        "id": "CdSAJEPRjTlz",
        "outputId": "f361d775-c7fa-4a1c-bb5d-311815f8e886"
      },
      "execution_count": null,
      "outputs": [
        {
          "output_type": "stream",
          "name": "stdout",
          "text": [
            "Відносна похибка X/Y:  -0.0007498790517658443\n"
          ]
        }
      ]
    },
    {
      "cell_type": "markdown",
      "source": [
        "Приклад реалізації завдання 1"
      ],
      "metadata": {
        "id": "Be7Zm1jb9ZjU"
      }
    },
    {
      "cell_type": "code",
      "source": [
        "import numpy as np\n",
        "\n",
        "\n",
        "def f(x, y):\n",
        "  return np.abs(x - y) / np.abs(x)\n",
        "\n",
        "def main():\n",
        "  x1 = np.sqrt(74) # Точне значення sqrt(74)\n",
        "  x2 = 12 / 11 # Точне значення 12/11\n",
        "  x1_1 = 8.6 # Наближене значення sqrt(74)\n",
        "  x2_2 = 1.091 # Наближене значення 12/11\n",
        "  rel_error_x1 = f(x1, x1_1)\n",
        "  rel_error_x2 = f(x2, x2_2)\n",
        "\n",
        "  if rel_error_x1 < rel_error_x2:\n",
        "    print(\"Перша рівність точніше з відносною похибкою:\", round(rel_error_x1, 5))\n",
        "  elif rel_error_x2 < rel_error_x1:\n",
        "    print(\"Друга рівність точніше з відносною похибкою:\", round(rel_error_x2, 5))\n",
        "  else:\n",
        "    print(\"Обидві рівності мають однакову точність з відносною похибкою:\", round(rel_error_x2, 5))\n",
        "\n",
        "if __name__ == \"__main__\":\n",
        "  main()"
      ],
      "metadata": {
        "colab": {
          "base_uri": "https://localhost:8080/"
        },
        "id": "_jo0223ahJg9",
        "outputId": "a7abde8f-022e-43d3-98b2-f20234720496"
      },
      "execution_count": 5,
      "outputs": [
        {
          "output_type": "stream",
          "name": "stdout",
          "text": [
            "Друга рівність точніше з відносною похибкою: 8e-05\n"
          ]
        }
      ]
    }
  ]
}